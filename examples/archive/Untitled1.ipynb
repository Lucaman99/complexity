{
 "cells": [
  {
   "cell_type": "code",
   "execution_count": 1,
   "id": "9aca46ed-afc0-4476-bf7c-9d7ed135d591",
   "metadata": {},
   "outputs": [],
   "source": [
    "# Example code"
   ]
  },
  {
   "cell_type": "code",
   "execution_count": 507,
   "id": "c40ccaf0-c844-4c72-96a5-581194e88803",
   "metadata": {},
   "outputs": [],
   "source": [
    "import qcomplexity as qc\n",
    "import jax\n",
    "import jax.numpy as jnp\n",
    "from matplotlib import pyplot as plt\n",
    "from scipy.integrate import solve_bvp, solve_ivp\n",
    "from scipy.optimize import minimize\n",
    "import numpy as np\n",
    "from scipy.optimize import fsolve\n",
    "\n",
    "np.set_printoptions(linewidth=100000)"
   ]
  },
  {
   "cell_type": "code",
   "execution_count": 508,
   "id": "edf0846d-84a6-433c-a019-3881197e8774",
   "metadata": {},
   "outputs": [],
   "source": [
    "inertia = jnp.array([\n",
    "    [1.0, 0.0, 0.0],\n",
    "    [0.0, 0.1, 0.0],\n",
    "    [0.0, 0.0, 0.1]\n",
    "])\n",
    "\n",
    "metric = jax.jit(qc.numerical_metric(inertia, qc.ham_fn)) # Metric tensor\n",
    "christoffel_symbols = jax.jit(qc.numerical_christoffel_symbols(metric)) # Christoffel symbols"
   ]
  },
  {
   "cell_type": "code",
   "execution_count": 509,
   "id": "0a86bd72-3a9c-4f01-8d5c-454b456bf733",
   "metadata": {},
   "outputs": [],
   "source": [
    "# The right-hand side of the geodesic differential equation\n",
    "diff_fn = lambda *args : jnp.real(qc.diff_fn(christoffel_symbols)(*args))"
   ]
  },
  {
   "cell_type": "code",
   "execution_count": 605,
   "id": "0ab94e36-c438-4cea-a3af-045397f9d16e",
   "metadata": {},
   "outputs": [],
   "source": [
    "init = jnp.array([0.0, 0.0, 0.0], dtype=complex)\n",
    "fin = jnp.array([0.0, 0.3816, 0.4387], dtype=complex) # Boundary condition"
   ]
  },
  {
   "cell_type": "code",
   "execution_count": 606,
   "id": "1205df56-4bc5-4864-961a-c0873f8dfc60",
   "metadata": {},
   "outputs": [],
   "source": [
    "jit_diff = jax.jit(diff_fn)\n",
    "solver = qc.solve_geodesic_ivp(jit_diff, 50)"
   ]
  },
  {
   "cell_type": "code",
   "execution_count": 607,
   "id": "1c43c8ac-b41b-4a2a-b18d-78ef0d9e5b3f",
   "metadata": {},
   "outputs": [],
   "source": [
    "path_solver = qc.solve_geodesic_path(jit_diff, 50)"
   ]
  },
  {
   "cell_type": "code",
   "execution_count": 608,
   "id": "71dd6ba6-0330-434e-9ab2-b970765a4976",
   "metadata": {},
   "outputs": [],
   "source": [
    "def complexity(fin, v_guess):\n",
    "    cost = lambda v : np.real(solver(v) - fin)\n",
    "    good = fsolve(cost, v_guess, full_output=True)\n",
    "    good_v = good[0]\n",
    "    \n",
    "    print(good)\n",
    "    \n",
    "    x, v = path_solver(good_v)\n",
    "    return qc.length(metric, x, v, 1/50), good[1]['fvec']"
   ]
  },
  {
   "cell_type": "code",
   "execution_count": 617,
   "id": "ea0080aa-0f24-4f22-8384-0a15d9648415",
   "metadata": {},
   "outputs": [
    {
     "name": "stdout",
     "output_type": "stream",
     "text": [
      "(array([0., 1., 1.]), {'nfev': 17, 'fjac': array([[ 0.01334739, -0.9974669 , -0.0698687 ],\n",
      "       [ 0.76646276,  0.05508036, -0.63992264],\n",
      "       [-0.64215004,  0.04501046, -0.76525641]]), 'r': array([-8.66206652e+10,  3.79465409e+13,  4.80007659e+13,  1.48785217e+03,  1.88135994e+03, -8.22560502e-01]), 'qtf': array([1.40037341, 0.97345038, 1.19100638]), 'fvec': array([-1.03728102e-08, -1.28960037e+00, -1.63220048e+00])}, 5, 'The iteration is not making good progress, as measured by the \\n  improvement from the last ten iterations.')\n"
     ]
    },
    {
     "data": {
      "text/plain": [
       "(DeviceArray(0.45615792+2.0688287e-10j, dtype=complex64),\n",
       " array([-1.03728102e-08, -1.28960037e+00, -1.63220048e+00]))"
      ]
     },
     "execution_count": 617,
     "metadata": {},
     "output_type": "execute_result"
    }
   ],
   "source": [
    "y = []\n",
    "v_guess = jnp.array([0.0, 1.0, 1.0])\n",
    "\n",
    "complexity(6.0 * fin, v_guess)"
   ]
  },
  {
   "cell_type": "code",
   "execution_count": 610,
   "id": "61879c78-f226-499e-897c-3c66b8d4a4c3",
   "metadata": {},
   "outputs": [
    {
     "name": "stdout",
     "output_type": "stream",
     "text": [
      "[]\n"
     ]
    }
   ],
   "source": [
    "print(y)"
   ]
  },
  {
   "cell_type": "code",
   "execution_count": 557,
   "id": "f7dbb785-806e-4761-b103-0e3ca677490f",
   "metadata": {},
   "outputs": [
    {
     "name": "stderr",
     "output_type": "stream",
     "text": [
      "/Library/Frameworks/Python.framework/Versions/3.9/lib/python3.9/site-packages/matplotlib/cbook/__init__.py:1333: ComplexWarning: Casting complex values to real discards the imaginary part\n",
      "  return np.asarray(x, float)\n"
     ]
    },
    {
     "data": {
      "text/plain": [
       "[<matplotlib.lines.Line2D at 0x7fee3427f3d0>]"
      ]
     },
     "execution_count": 557,
     "metadata": {},
     "output_type": "execute_result"
    },
    {
     "data": {
      "image/png": "[encoded data removed]",
      "text/plain": [
       "<Figure size 432x288 with 1 Axes>"
      ]
     },
     "metadata": {
      "needs_background": "light"
     },
     "output_type": "display_data"
    }
   ],
   "source": [
    "plt.plot(np.linspace(0, 5, 50), y)"
   ]
  },
  {
   "cell_type": "code",
   "execution_count": null,
   "id": "26ce8000-0d58-436a-985f-4adb1af920a6",
   "metadata": {},
   "outputs": [],
   "source": []
  }
 ],
 "metadata": {
  "kernelspec": {
   "display_name": "Python 3 (ipykernel)",
   "language": "python",
   "name": "python3"
  },
  "language_info": {
   "codemirror_mode": {
    "name": "ipython",
    "version": 3
   },
   "file_extension": ".py",
   "mimetype": "text/x-python",
   "name": "python",
   "nbconvert_exporter": "python",
   "pygments_lexer": "ipython3",
   "version": "3.9.6"
  }
 },
 "nbformat": 4,
 "nbformat_minor": 5
}
