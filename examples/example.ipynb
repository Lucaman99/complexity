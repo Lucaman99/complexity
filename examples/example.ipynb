{
 "cells": [
  {
   "cell_type": "code",
   "execution_count": 37,
   "id": "13d1fc19-3ce6-4fb2-ac35-e2ce65d2637c",
   "metadata": {},
   "outputs": [],
   "source": [
    "import qcomplexity as qc\n",
    "import jax\n",
    "import jax.numpy as jnp\n",
    "from matplotlib import pyplot as plt\n",
    "from scipy.integrate import solve_bvp, solve_ivp\n",
    "from scipy.optimize import minimize\n",
    "import numpy as np\n",
    "from scipy.optimize import fsolve\n",
    "from tqdm.notebook import tqdm\n",
    "\n",
    "np.set_printoptions(linewidth=100000)"
   ]
  },
  {
   "cell_type": "markdown",
   "id": "aba2549e-8630-44b7-9535-277d9c661fad",
   "metadata": {},
   "source": [
    "# Geodesic\n",
    "\n",
    "The following code will generate a plot showing the path taken from initial to final parameters on the unitary manifold."
   ]
  },
  {
   "cell_type": "code",
   "execution_count": 19,
   "id": "883ca7ef-b55a-4205-b3c1-453aa2a3f022",
   "metadata": {},
   "outputs": [],
   "source": [
    "# Hardness of different unitary generators\n",
    "inertia = jnp.array([\n",
    "    [1.0, 0.0, 0.0],\n",
    "    [0.0, 0.1, 0.0],\n",
    "    [0.0, 0.0, 0.1]\n",
    "])\n",
    "\n",
    "metric = jax.jit(qc.numerical_metric(inertia, qc.ham_fn)) # Metric tensor\n",
    "christoffel_symbols = jax.jit(qc.numerical_christoffel_symbols(metric)) # Christoffel symbols"
   ]
  },
  {
   "cell_type": "code",
   "execution_count": 20,
   "id": "b7d858c9-487a-4728-8ec2-ae0cb1a9db2e",
   "metadata": {},
   "outputs": [],
   "source": [
    "# The right-hand side of the geodesic differential equation\n",
    "diff_fn = lambda *args : jnp.real(qc.diff_fn(christoffel_symbols)(*args))\n",
    "jit_diff = jax.jit(diff_fn)"
   ]
  },
  {
   "cell_type": "code",
   "execution_count": 25,
   "id": "f9a10564-f334-47d7-b89c-249f9168c6a2",
   "metadata": {},
   "outputs": [],
   "source": [
    "# Initial conditions\n",
    "init = jnp.array([0.0, 0.0, 0.0], dtype=complex)"
   ]
  },
  {
   "cell_type": "code",
   "execution_count": 22,
   "id": "d92b09f2-e02a-4b48-b28e-465ff4a01a74",
   "metadata": {},
   "outputs": [],
   "source": [
    "# Creates the path ODE solver\n",
    "nodes = 50\n",
    "path_solver = qc.solve_geodesic_path(jit_diff, nodes)"
   ]
  },
  {
   "cell_type": "code",
   "execution_count": 26,
   "id": "edabe9fe-f309-4375-8d05-b91687830da4",
   "metadata": {},
   "outputs": [],
   "source": [
    "# We will look at the geodesic beginning at init, with tangent vector given by:\n",
    "v = jnp.array([0.5, 0.5, 0.5], dtype=complex)"
   ]
  },
  {
   "cell_type": "code",
   "execution_count": 27,
   "id": "e4659e3e-b583-46c1-a4b8-b35f97a213ad",
   "metadata": {},
   "outputs": [],
   "source": [
    "# We run the ODE solver\n",
    "x, v = path_solver(v)"
   ]
  },
  {
   "cell_type": "code",
   "execution_count": 36,
   "id": "29470554-b043-45a1-bd7b-826e5b15dcaa",
   "metadata": {},
   "outputs": [
    {
     "name": "stderr",
     "output_type": "stream",
     "text": [
      "/Library/Frameworks/Python.framework/Versions/3.9/lib/python3.9/site-packages/matplotlib/cbook/__init__.py:1333: ComplexWarning: Casting complex values to real discards the imaginary part\n",
      "  return np.asarray(x, float)\n"
     ]
    },
    {
     "data": {
      "text/plain": [
       "[<matplotlib.lines.Line2D at 0x7ff49db5f4c0>,\n",
       " <matplotlib.lines.Line2D at 0x7ff49db5f520>,\n",
       " <matplotlib.lines.Line2D at 0x7ff49db5f610>]"
      ]
     },
     "execution_count": 36,
     "metadata": {},
     "output_type": "execute_result"
    },
    {
     "data": {
      "image/png": "[encoded data removed]",
      "text/plain": [
       "<Figure size 720x360 with 1 Axes>"
      ]
     },
     "metadata": {
      "needs_background": "light"
     },
     "output_type": "display_data"
    }
   ],
   "source": [
    "# We can then plot the paths taken by each unitary parameter\n",
    "plt.figure(figsize=(10, 5))\n",
    "plt.plot(np.linspace(0, 1, nodes+1), x)"
   ]
  },
  {
   "cell_type": "markdown",
   "id": "5c27fd35-03e1-4b9b-a56e-3a7dca1db132",
   "metadata": {},
   "source": [
    "# Complexity of the Time-Evolution Operator\n",
    "\n",
    "The following snippets of code will generate a plot showing the complexity of the time-evolution operator over time. We recycle some the code from above (the metric, the Christoffel symbols, etc.)"
   ]
  },
  {
   "cell_type": "code",
   "execution_count": 24,
   "id": "91ff81b7-6f07-443f-b6df-a80b2b8ca0f0",
   "metadata": {},
   "outputs": [],
   "source": [
    "# Boundary conditions\n",
    "fin = jnp.array([0.0, 0.3816, 0.4387], dtype=complex)"
   ]
  },
  {
   "cell_type": "code",
   "execution_count": 23,
   "id": "125f8f02-03bc-458a-8ce1-f7799be08e11",
   "metadata": {},
   "outputs": [],
   "source": [
    "# Creates the endpoint ODE solver\n",
    "endpoint_solver = qc.solve_geodesic_ivp(jit_diff, nodes)"
   ]
  },
  {
   "cell_type": "code",
   "execution_count": 14,
   "id": "38c13c35-922f-4f6a-931c-83620acbc9d6",
   "metadata": {},
   "outputs": [],
   "source": [
    "def complexity(fin, v_guess):\n",
    "    cost = lambda v : np.real(endpoint_solver(v) - fin)\n",
    "    solve_val = fsolve(cost, v_guess, full_output=True)\n",
    "    good_v = solve_val[0]\n",
    "    \n",
    "    x, v = path_solver(good_v)\n",
    "    # Returns the geodesic length and the error vector\n",
    "    return qc.length(metric, x, v, 1/nodes), solve_val[1]['fvec']"
   ]
  },
  {
   "cell_type": "code",
   "execution_count": 16,
   "id": "9fad4e09-8e98-4acc-a1af-447de67e2ab9",
   "metadata": {},
   "outputs": [
    {
     "name": "stdout",
     "output_type": "stream",
     "text": [
      "Error = 0.0\n",
      "Error = 7.730402404518616e-09\n",
      "Error = 1.5359765983484536e-08\n",
      "Error = 1.862645764044155e-08\n",
      "Error = 3.071953105046809e-08\n",
      "Error = 1.0536758656845494e-08\n",
      "Error = 3.071953412681932e-08\n",
      "Error = 2.9802323934026425e-08\n",
      "Error = 6.143941132722028e-08\n",
      "Error = 1.4901276136707065e-08\n",
      "Error = 2.107342900886498e-08\n",
      "Error = 6.3008036288447755e-12\n",
      "Error = 6.143909551621095e-08\n",
      "Error = 1.4902193076386472e-07\n",
      "Error = 5.96051083729618e-08\n",
      "Error = 2.985134596371115e-08\n",
      "Error = 1.519626659864005e-07\n",
      "Error = 6.665607138221554e-08\n",
      "Error = 4.221006362747506e-08\n",
      "Error = 2.9805452584497255e-08\n",
      "Error = 4.2340857465435326e-08\n",
      "Error = 2.747657511691477e-07\n",
      "Error = 2.9802383795846995e-08\n",
      "Error = 2.3287819622894146e-07\n",
      "Error = 1.2290031399375482e-07\n",
      "Error = 1.8963871368809276e-07\n",
      "Error = 1.7894511112738073e-07\n",
      "Error = 5.962215881348494e-08\n",
      "Error = 1.1927561117560765e-07\n",
      "Error = 6.14956540981873e-08\n",
      "Error = 8.437712443178279e-08\n",
      "Error = 1.7881680155116442e-07\n",
      "Error = 3.576316921485347e-07\n",
      "Error = 5.96176807378369e-08\n",
      "Error = 7.588556449888983e-10\n",
      "Error = 5.370899191898426e-07\n",
      "Error = 5.964455762335145e-08\n",
      "Error = 4.783971560643264e-07\n",
      "Error = 1.1944159396176046e-07\n",
      "Error = 3.6318420801802795e-07\n",
      "Error = 2.564059357385438e-07\n",
      "Error = 2.1886302820937669e-07\n",
      "Error = 8.033681257074691e-07\n",
      "Error = 3.8236083601034577e-07\n",
      "Error = 2.2640547214791695e-09\n",
      "Error = 2.5538802484374915e-07\n",
      "Error = 6.422453129011062e-07\n",
      "Error = 6.97758891255722e-07\n",
      "Error = 6.131576224039115e-07\n",
      "Error = 1.1933169615268805e-07\n",
      "Error = 7.659001490354105e-07\n",
      "Error = 3.83024863554154e-07\n",
      "Error = 5.143716703187545e-07\n",
      "Error = 1.2029965844511535e-07\n",
      "Error = 2.7637278211018545e-07\n",
      "Error = 1.1989681100518962e-07\n",
      "Error = 3.7729105284427624e-07\n",
      "Error = 8.248165232189762e-07\n",
      "Error = 2.3869159449396636e-07\n",
      "Error = 2.4535361344243087e-07\n",
      "Error = 1.239065237729323e-07\n",
      "Error = 1.6561786367233235e-06\n",
      "Error = 3.19629531967913e-07\n",
      "Error = 2.2418995872052593e-07\n",
      "Error = 2.6767443955022357e-07\n",
      "Error = 2.672699315531367e-07\n",
      "Error = 1.2926909729274912e-07\n",
      "Error = 6.703702010807331e-07\n",
      "Error = 1.1013807274451645e-06\n",
      "Error = 5.707423871189335e-07\n",
      "Error = 1.2633715149435076e-07\n",
      "Error = 4.5964455952786217e-07\n",
      "Error = 7.54770978990223e-07\n",
      "Error = 6.550108766428277e-07\n",
      "Error = 1.657518627008261e-07\n",
      "Error = 3.1071573837274285e-07\n",
      "Error = 1.1285238316833923e-06\n",
      "Error = 2.9313522226392273e-07\n",
      "Error = 1.3510679895894633e-07\n",
      "Error = 1.6713878615998024e-07\n",
      "Error = 4.930643292330469e-07\n",
      "Error = 2.430424594931704e-07\n",
      "Error = 1.9313875355791379e-07\n",
      "Error = 1.6212058885770502e-07\n",
      "Error = 8.596431248622546e-07\n",
      "Error = 9.843320016917174e-07\n",
      "Error = 3.3745927392117206e-07\n",
      "Error = 4.982795176632915e-07\n",
      "Error = 2.5566539776208533e-07\n",
      "Error = 2.5383539117991796e-07\n",
      "Error = 9.95135154098291e-07\n",
      "Error = 1.481071717333027e-07\n",
      "Error = 1.2331175442906767e-06\n",
      "Error = 5.754035498213042e-07\n",
      "Error = 2.7805410418838525e-07\n",
      "Error = 1.0766651732820802e-06\n",
      "Error = 5.336259116786565e-07\n",
      "Error = 9.854159934588356e-07\n",
      "Error = 1.3013338217623607e-06\n",
      "Error = 3.6630189892156805e-06\n"
     ]
    }
   ],
   "source": [
    "v_guess = jnp.array([0.0, 1.0, 1.0])\n",
    "C_vals = []\n",
    "\n",
    "for t in np.linspace(0, 5.4, 100):\n",
    "    out, error = complexity(t * fin, v_guess)\n",
    "    C_vals.append(out)\n",
    "    print(\"Error = {}\".format(np.linalg.norm(error)))"
   ]
  },
  {
   "cell_type": "code",
   "execution_count": 38,
   "id": "68172df8-ee5f-4b4b-9507-58b01cfb55e0",
   "metadata": {},
   "outputs": [
    {
     "name": "stderr",
     "output_type": "stream",
     "text": [
      "/Library/Frameworks/Python.framework/Versions/3.9/lib/python3.9/site-packages/matplotlib/cbook/__init__.py:1333: ComplexWarning: Casting complex values to real discards the imaginary part\n",
      "  return np.asarray(x, float)\n"
     ]
    },
    {
     "data": {
      "text/plain": [
       "[<matplotlib.lines.Line2D at 0x7ff49ce80b80>]"
      ]
     },
     "execution_count": 38,
     "metadata": {},
     "output_type": "execute_result"
    },
    {
     "data": {
      "image/png": "[encoded data removed]",
      "text/plain": [
       "<Figure size 720x360 with 1 Axes>"
      ]
     },
     "metadata": {
      "needs_background": "light"
     },
     "output_type": "display_data"
    }
   ],
   "source": [
    "# Plots the complexity over time\n",
    "plt.figure(figsize=(10, 5))\n",
    "plt.plot(np.linspace(0, 5.4, 100), C_vals)"
   ]
  },
  {
   "cell_type": "code",
   "execution_count": null,
   "id": "25172653-a180-458e-ab56-2c77574f8bc6",
   "metadata": {},
   "outputs": [],
   "source": []
  }
 ],
 "metadata": {
  "kernelspec": {
   "display_name": "Python 3 (ipykernel)",
   "language": "python",
   "name": "python3"
  },
  "language_info": {
   "codemirror_mode": {
    "name": "ipython",
    "version": 3
   },
   "file_extension": ".py",
   "mimetype": "text/x-python",
   "name": "python",
   "nbconvert_exporter": "python",
   "pygments_lexer": "ipython3",
   "version": "3.9.6"
  }
 },
 "nbformat": 4,
 "nbformat_minor": 5
}
