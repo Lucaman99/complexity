{
 "cells": [
  {
   "cell_type": "code",
   "execution_count": 1,
   "id": "700d5bd1-e7fb-4ab9-ae4f-1a6e4a59ba71",
   "metadata": {},
   "outputs": [
    {
     "name": "stderr",
     "output_type": "stream",
     "text": [
      "WARNING:absl:No GPU/TPU found, falling back to CPU. (Set TF_CPP_MIN_LOG_LEVEL=0 and rerun for more info.)\n"
     ]
    }
   ],
   "source": [
    "import qcomplexity as qc\n",
    "import jax\n",
    "import jax.numpy as jnp\n",
    "from matplotlib import pyplot as plt\n",
    "from scipy.integrate import solve_bvp, solve_ivp\n",
    "import numpy as np\n",
    "\n",
    "np.set_printoptions(linewidth=100000)"
   ]
  },
  {
   "cell_type": "code",
   "execution_count": 3,
   "id": "4729c1f0-85f7-4489-a292-81e89cb073cb",
   "metadata": {},
   "outputs": [],
   "source": [
    "# Plots the geodesic curve along the unitary manifold, starting at some initial set of parameters and pointing in the direction of a\n",
    "# tangent vector\n",
    "\n",
    "inertia = jnp.array([\n",
    "    [1.0, 0.0, 0.0],\n",
    "    [0.0, 0.1, 0.0],\n",
    "    [0.0, 0.0, 0.1]\n",
    "])\n",
    "\n",
    "metric = jax.jit(qc.numerical_metric(inertia, qc.ham_fn)) # Metric tensor\n",
    "christoffel_symbols = jax.jit(qc.numerical_christoffel_symbols(metric)) # Christoffel symbols"
   ]
  },
  {
   "cell_type": "code",
   "execution_count": 5,
   "id": "1288ae79-f795-4305-8324-aed1f61d7a81",
   "metadata": {},
   "outputs": [],
   "source": [
    "# The right-hand side of the geodesic differential equation\n",
    "diff_fn = lambda *args : jnp.real(qc.diff_fn(christoffel_symbols)(*args))"
   ]
  },
  {
   "cell_type": "code",
   "execution_count": 6,
   "id": "be1dbfab-fca8-4140-8a0d-81423b61569e",
   "metadata": {},
   "outputs": [],
   "source": [
    "# We can now solve the boundary value problem yielded form the geodesic equations\n",
    "\n",
    "def batch_diff_fn(y1, y2):\n",
    "    \"\"\"Returns a batch of diff_fn evaluations\"\"\"\n",
    "    return np.array([diff_fn(a, b) for a, b in zip(y1.T, y2.T)]).T\n",
    "\n",
    "def prepare_guess(init, fin, steps):\n",
    "    \"\"\"Prepares initial guess for a given set of initial + final params\"\"\"\n",
    "    first_rows = np.linspace(init, fin, steps).T\n",
    "    second_rows = np.tile(fin - init, (steps, 1)).T\n",
    "    return np.vstack([first_rows, second_rows])"
   ]
  },
  {
   "cell_type": "code",
   "execution_count": 48,
   "id": "2b63e627-dfe1-4216-90fb-37ed34e10a2b",
   "metadata": {},
   "outputs": [
    {
     "name": "stderr",
     "output_type": "stream",
     "text": [
      "/Library/Frameworks/Python.framework/Versions/3.9/lib/python3.9/site-packages/jax/_src/numpy/lax_numpy.py:3584: UserWarning: Explicitly requested dtype <class 'complex'> requested in array is not available, and will be truncated to dtype complex64. To enable more dtypes, set the jax_enable_x64 configuration option or the JAX_ENABLE_X64 shell environment variable. See https://github.com/google/jax#current-gotchas for more.\n",
      "  lax._check_user_dtype_supported(dtype, \"array\")\n"
     ]
    }
   ],
   "source": [
    "nodes = 10 # Number of nodes for BVP solver to use\n",
    "init = jnp.array([0.0, 0.0, 0.0], dtype=complex)\n",
    "fin = jnp.array([0.3, 0.6, 0.0], dtype=complex) # Boundary condition\n",
    "x = np.linspace(0, 1, nodes)\n",
    "\n",
    "x_guess = prepare_guess(init, fin, nodes) # Initial solution guess\n",
    "x_guess = y_plot"
   ]
  },
  {
   "cell_type": "code",
   "execution_count": 49,
   "id": "fcbe9a6b-f31b-4547-bd2b-36ce5d49da9c",
   "metadata": {},
   "outputs": [],
   "source": [
    "# Boundary conditions penalty\n",
    "def bc(ya, yb):\n",
    "    return np.array([ya[0:3] - init, yb[0:3] - fin]).flatten()\n",
    "\n",
    "# BVP function\n",
    "def f(x, y):\n",
    "    s = y.shape[1]\n",
    "    y = y.reshape(2, 3, s)\n",
    "    #print(np.real(batch_diff_fn(y[0], y[1])))\n",
    "    v = np.vstack((\n",
    "        y[1], \n",
    "        -batch_diff_fn(y[0], y[1])\n",
    "    )).reshape(6, s)\n",
    "    #print(v)\n",
    "    return v\n",
    "\n",
    "def new_f(x, y):\n",
    "    y = y.reshape(2, 3)\n",
    "    v = np.vstack((\n",
    "        y[1], \n",
    "        -diff_fn(y[0], y[1])\n",
    "    )).reshape(6)\n",
    "    return v"
   ]
  },
  {
   "cell_type": "code",
   "execution_count": 50,
   "id": "24e66f75-de34-4fcd-8b03-329524271805",
   "metadata": {},
   "outputs": [
    {
     "name": "stdout",
     "output_type": "stream",
     "text": [
      "   Iteration    Max residual  Max BC residual  Total nodes    Nodes added  \n",
      "       1          4.22e-03       2.03e-03          10              8       \n",
      "       2          1.39e-04       3.43e-05          18              0       \n",
      "Solved in 2 iterations, number of nodes 18. \n",
      "Maximum relative residual: 1.39e-04 \n",
      "Maximum boundary residual: 3.43e-05\n"
     ]
    }
   ],
   "source": [
    "res = solve_bvp(f, bc, x, x_guess, verbose=2)"
   ]
  },
  {
   "cell_type": "code",
   "execution_count": 51,
   "id": "e02e9435-eb3c-4f9f-9776-197f48a105a7",
   "metadata": {},
   "outputs": [
    {
     "data": {
      "text/plain": [
       "(6, 10)"
      ]
     },
     "execution_count": 51,
     "metadata": {},
     "output_type": "execute_result"
    }
   ],
   "source": [
    "x_guess.shape"
   ]
  },
  {
   "cell_type": "code",
   "execution_count": 52,
   "id": "3db5de34-b8fc-4831-8c19-6750f9e43724",
   "metadata": {},
   "outputs": [
    {
     "name": "stdout",
     "output_type": "stream",
     "text": [
      "(6, 10)\n"
     ]
    }
   ],
   "source": [
    "print(y_plot.shape)"
   ]
  },
  {
   "cell_type": "code",
   "execution_count": 53,
   "id": "33673522-560d-49ac-9ba8-a6e4b42abc76",
   "metadata": {},
   "outputs": [
    {
     "name": "stderr",
     "output_type": "stream",
     "text": [
      "/Library/Frameworks/Python.framework/Versions/3.9/lib/python3.9/site-packages/matplotlib/cbook/__init__.py:1333: ComplexWarning: Casting complex values to real discards the imaginary part\n",
      "  return np.asarray(x, float)\n",
      "/Library/Frameworks/Python.framework/Versions/3.9/lib/python3.9/site-packages/matplotlib/cbook/__init__.py:1333: ComplexWarning: Casting complex values to real discards the imaginary part\n",
      "  return np.asarray(x, float)\n",
      "/Library/Frameworks/Python.framework/Versions/3.9/lib/python3.9/site-packages/matplotlib/cbook/__init__.py:1333: ComplexWarning: Casting complex values to real discards the imaginary part\n",
      "  return np.asarray(x, float)\n"
     ]
    },
    {
     "data": {
      "text/plain": [
       "[<matplotlib.lines.Line2D at 0x7fd3d3647e80>]"
      ]
     },
     "execution_count": 53,
     "metadata": {},
     "output_type": "execute_result"
    },
    {
     "data": {
      "image/png": "[encoded data removed]",
      "text/plain": [
       "<Figure size 432x288 with 1 Axes>"
      ]
     },
     "metadata": {
      "needs_background": "light"
     },
     "output_type": "display_data"
    }
   ],
   "source": [
    "x_plot = np.linspace(0, 1, 10)\n",
    "y_plot = res.sol(x_plot)\n",
    "\n",
    "plt.plot(x_plot, y_plot[0])\n",
    "plt.plot(x_plot, y_plot[1])\n",
    "plt.plot(x_plot, y_plot[2])"
   ]
  },
  {
   "cell_type": "code",
   "execution_count": 18,
   "id": "888b6904-542a-4108-b605-f6302bcbe41a",
   "metadata": {},
   "outputs": [],
   "source": [
    "jit_diff = jax.jit(diff_fn)"
   ]
  },
  {
   "cell_type": "code",
   "execution_count": 19,
   "id": "892d3086-b482-49bb-84b3-5dca4040e516",
   "metadata": {},
   "outputs": [],
   "source": [
    "def body_fn(i, val):\n",
    "    x, v = val[0], val[1]\n",
    "    a = -jit_diff(x, v)\n",
    "    x = x + v * (1/100) + (0.5 * (1/100) ** 2) * a\n",
    "    v = v + a * (1/100)\n",
    "    return jnp.array([x, v])"
   ]
  },
  {
   "cell_type": "code",
   "execution_count": 560,
   "id": "a0b04507-d709-44a6-90dc-f23638334556",
   "metadata": {},
   "outputs": [],
   "source": [
    "def solve_ivp(v_init):\n",
    "    \"\"\"Solves for the endpoint of an IVP\"\"\"\n",
    "    x = jnp.array([0.0, 0.0, 0.0], dtype=complex)\n",
    "    v = v_init\n",
    "    for s in np.linspace(0, 1, 100):\n",
    "        a = -jit_diff(x, v)\n",
    "        x = x + v * (1/100) + (0.5 * (1/100) ** 2) * a\n",
    "        v = v + a * (1/100)\n",
    "    return x\n",
    "\n",
    "def jax_solve(v):\n",
    "    return jax.lax.fori_loop(0, 100, body_fn, jnp.vstack((jnp.array([0.0, 0.0, 0.0], dtype=complex), v)))\n",
    "\n",
    "def cost_fn(v):\n",
    "    \"\"\"Cost function\"\"\"\n",
    "    return float(np.linalg.norm(solve_ivp(v) - fin))"
   ]
  },
  {
   "cell_type": "code",
   "execution_count": 561,
   "id": "6238d7c6-8319-4b5a-99a7-a8a1fdb12673",
   "metadata": {},
   "outputs": [],
   "source": [
    "from scipy.optimize import minimize"
   ]
  },
  {
   "cell_type": "code",
   "execution_count": 566,
   "id": "0deb1d17-7d59-4d4e-9d8a-d7b38c8bb5d9",
   "metadata": {
    "tags": []
   },
   "outputs": [
    {
     "data": {
      "text/plain": [
       "     fun: 0.00018354706116952002\n",
       "   maxcv: 0.0\n",
       " message: 'Optimization terminated successfully.'\n",
       "    nfev: 96\n",
       "  status: 1\n",
       " success: True\n",
       "       x: array([0.68942411, 0.99115498, 1.31267012])"
      ]
     },
     "execution_count": 566,
     "metadata": {},
     "output_type": "execute_result"
    }
   ],
   "source": [
    "v = jnp.array([0.3, 0.5, 0.2], dtype=complex)\n",
    "minimize(cost_fn, v, method=\"COBYLA\")"
   ]
  },
  {
   "cell_type": "code",
   "execution_count": 567,
   "id": "673e6382-4a94-441e-8b46-73532f8769f4",
   "metadata": {},
   "outputs": [
    {
     "data": {
      "text/plain": [
       "DeviceArray([ 1.1301407e+00+0.j,  6.0002702e-01+0.j, -1.1477491e-04+0.j], dtype=complex64)"
      ]
     },
     "execution_count": 567,
     "metadata": {},
     "output_type": "execute_result"
    }
   ],
   "source": [
    "solve_ivp(jnp.array([0.68942411, 0.99115498, 1.31267012], dtype=complex))"
   ]
  },
  {
   "cell_type": "code",
   "execution_count": 441,
   "id": "04a5190a-df1b-48d0-85d1-405eff68239d",
   "metadata": {},
   "outputs": [],
   "source": [
    "# Attempt to propogate along the manifold\n",
    "x = jnp.array([0.0, 0.0, 0.0], dtype=complex)\n",
    "v = jnp.array([0.3, 0.5, 0.2], dtype=complex)\n",
    "\n",
    "l = []\n",
    "\n",
    "for s in jnp.linspace(0, 1, 100):\n",
    "    a = -diff_fn(x, v)\n",
    "    x = x + v * (1/100) + (0.5 * (1/100) ** 2) * a\n",
    "    v = v + a * (1/100)\n",
    "    l.append(x)"
   ]
  },
  {
   "cell_type": "code",
   "execution_count": 442,
   "id": "fc3de4ee-61c5-4e35-90d7-d1a0622319fd",
   "metadata": {},
   "outputs": [
    {
     "name": "stderr",
     "output_type": "stream",
     "text": [
      "/Library/Frameworks/Python.framework/Versions/3.9/lib/python3.9/site-packages/matplotlib/cbook/__init__.py:1333: ComplexWarning: Casting complex values to real discards the imaginary part\n",
      "  return np.asarray(x, float)\n"
     ]
    },
    {
     "data": {
      "text/plain": [
       "[<matplotlib.lines.Line2D at 0x7fb5de36fca0>,\n",
       " <matplotlib.lines.Line2D at 0x7fb5de36fd00>,\n",
       " <matplotlib.lines.Line2D at 0x7fb5de36fdf0>]"
      ]
     },
     "execution_count": 442,
     "metadata": {},
     "output_type": "execute_result"
    },
    {
     "data": {
      "image/png": "[encoded data removed]",
      "text/plain": [
       "<Figure size 432x288 with 1 Axes>"
      ]
     },
     "metadata": {
      "needs_background": "light"
     },
     "output_type": "display_data"
    }
   ],
   "source": [
    "plt.plot(np.linspace(0, 1, 100), l)"
   ]
  },
  {
   "cell_type": "code",
   "execution_count": 437,
   "id": "6c5a321c-eadb-4ce1-8b1c-cc8eadbcb827",
   "metadata": {},
   "outputs": [
    {
     "name": "stderr",
     "output_type": "stream",
     "text": [
      "/Library/Frameworks/Python.framework/Versions/3.9/lib/python3.9/site-packages/jax/_src/numpy/lax_numpy.py:3584: UserWarning: Explicitly requested dtype <class 'complex'> requested in array is not available, and will be truncated to dtype complex64. To enable more dtypes, set the jax_enable_x64 configuration option or the JAX_ENABLE_X64 shell environment variable. See https://github.com/google/jax#current-gotchas for more.\n",
      "  lax._check_user_dtype_supported(dtype, \"array\")\n"
     ]
    }
   ],
   "source": [
    "res = solve_ivp(new_f, [0, 1], jnp.array([0.0, 0.0, 0.0, 0.3, 0.5, 0.2], dtype=complex), dense_output=True)"
   ]
  },
  {
   "cell_type": "code",
   "execution_count": 426,
   "id": "802e6daf-ef6a-4ab4-8c1c-2bd026f74a2e",
   "metadata": {},
   "outputs": [
    {
     "ename": "ValueError",
     "evalue": "x and y must have same first dimension, but have shapes (100,) and (8,)",
     "output_type": "error",
     "traceback": [
      "\u001b[0;31m---------------------------------------------------------------------------\u001b[0m",
      "\u001b[0;31mValueError\u001b[0m                                Traceback (most recent call last)",
      "\u001b[0;32m/var/folders/yd/_p7ptfl11dqffr29bbsh4wyw0000gn/T/ipykernel_61383/2032291883.py\u001b[0m in \u001b[0;36m<module>\u001b[0;34m\u001b[0m\n\u001b[0;32m----> 1\u001b[0;31m \u001b[0mplt\u001b[0m\u001b[0;34m.\u001b[0m\u001b[0mplot\u001b[0m\u001b[0;34m(\u001b[0m\u001b[0mx_plot\u001b[0m\u001b[0;34m,\u001b[0m \u001b[0my_plot\u001b[0m\u001b[0;34m[\u001b[0m\u001b[0;36m3\u001b[0m\u001b[0;34m]\u001b[0m\u001b[0;34m)\u001b[0m\u001b[0;34m\u001b[0m\u001b[0;34m\u001b[0m\u001b[0m\n\u001b[0m\u001b[1;32m      2\u001b[0m \u001b[0mplt\u001b[0m\u001b[0;34m.\u001b[0m\u001b[0mplot\u001b[0m\u001b[0;34m(\u001b[0m\u001b[0mx_plot\u001b[0m\u001b[0;34m,\u001b[0m \u001b[0my_plot\u001b[0m\u001b[0;34m[\u001b[0m\u001b[0;36m4\u001b[0m\u001b[0;34m]\u001b[0m\u001b[0;34m)\u001b[0m\u001b[0;34m\u001b[0m\u001b[0;34m\u001b[0m\u001b[0m\n\u001b[1;32m      3\u001b[0m \u001b[0mplt\u001b[0m\u001b[0;34m.\u001b[0m\u001b[0mplot\u001b[0m\u001b[0;34m(\u001b[0m\u001b[0mx_plot\u001b[0m\u001b[0;34m,\u001b[0m \u001b[0my_plot\u001b[0m\u001b[0;34m[\u001b[0m\u001b[0;36m5\u001b[0m\u001b[0;34m]\u001b[0m\u001b[0;34m)\u001b[0m\u001b[0;34m\u001b[0m\u001b[0;34m\u001b[0m\u001b[0m\n",
      "\u001b[0;32m/Library/Frameworks/Python.framework/Versions/3.9/lib/python3.9/site-packages/matplotlib/pyplot.py\u001b[0m in \u001b[0;36mplot\u001b[0;34m(scalex, scaley, data, *args, **kwargs)\u001b[0m\n\u001b[1;32m   3017\u001b[0m \u001b[0;34m@\u001b[0m\u001b[0m_copy_docstring_and_deprecators\u001b[0m\u001b[0;34m(\u001b[0m\u001b[0mAxes\u001b[0m\u001b[0;34m.\u001b[0m\u001b[0mplot\u001b[0m\u001b[0;34m)\u001b[0m\u001b[0;34m\u001b[0m\u001b[0;34m\u001b[0m\u001b[0m\n\u001b[1;32m   3018\u001b[0m \u001b[0;32mdef\u001b[0m \u001b[0mplot\u001b[0m\u001b[0;34m(\u001b[0m\u001b[0;34m*\u001b[0m\u001b[0margs\u001b[0m\u001b[0;34m,\u001b[0m \u001b[0mscalex\u001b[0m\u001b[0;34m=\u001b[0m\u001b[0;32mTrue\u001b[0m\u001b[0;34m,\u001b[0m \u001b[0mscaley\u001b[0m\u001b[0;34m=\u001b[0m\u001b[0;32mTrue\u001b[0m\u001b[0;34m,\u001b[0m \u001b[0mdata\u001b[0m\u001b[0;34m=\u001b[0m\u001b[0;32mNone\u001b[0m\u001b[0;34m,\u001b[0m \u001b[0;34m**\u001b[0m\u001b[0mkwargs\u001b[0m\u001b[0;34m)\u001b[0m\u001b[0;34m:\u001b[0m\u001b[0;34m\u001b[0m\u001b[0;34m\u001b[0m\u001b[0m\n\u001b[0;32m-> 3019\u001b[0;31m     return gca().plot(\n\u001b[0m\u001b[1;32m   3020\u001b[0m         \u001b[0;34m*\u001b[0m\u001b[0margs\u001b[0m\u001b[0;34m,\u001b[0m \u001b[0mscalex\u001b[0m\u001b[0;34m=\u001b[0m\u001b[0mscalex\u001b[0m\u001b[0;34m,\u001b[0m \u001b[0mscaley\u001b[0m\u001b[0;34m=\u001b[0m\u001b[0mscaley\u001b[0m\u001b[0;34m,\u001b[0m\u001b[0;34m\u001b[0m\u001b[0;34m\u001b[0m\u001b[0m\n\u001b[1;32m   3021\u001b[0m         **({\"data\": data} if data is not None else {}), **kwargs)\n",
      "\u001b[0;32m/Library/Frameworks/Python.framework/Versions/3.9/lib/python3.9/site-packages/matplotlib/axes/_axes.py\u001b[0m in \u001b[0;36mplot\u001b[0;34m(self, scalex, scaley, data, *args, **kwargs)\u001b[0m\n\u001b[1;32m   1603\u001b[0m         \"\"\"\n\u001b[1;32m   1604\u001b[0m         \u001b[0mkwargs\u001b[0m \u001b[0;34m=\u001b[0m \u001b[0mcbook\u001b[0m\u001b[0;34m.\u001b[0m\u001b[0mnormalize_kwargs\u001b[0m\u001b[0;34m(\u001b[0m\u001b[0mkwargs\u001b[0m\u001b[0;34m,\u001b[0m \u001b[0mmlines\u001b[0m\u001b[0;34m.\u001b[0m\u001b[0mLine2D\u001b[0m\u001b[0;34m)\u001b[0m\u001b[0;34m\u001b[0m\u001b[0;34m\u001b[0m\u001b[0m\n\u001b[0;32m-> 1605\u001b[0;31m         \u001b[0mlines\u001b[0m \u001b[0;34m=\u001b[0m \u001b[0;34m[\u001b[0m\u001b[0;34m*\u001b[0m\u001b[0mself\u001b[0m\u001b[0;34m.\u001b[0m\u001b[0m_get_lines\u001b[0m\u001b[0;34m(\u001b[0m\u001b[0;34m*\u001b[0m\u001b[0margs\u001b[0m\u001b[0;34m,\u001b[0m \u001b[0mdata\u001b[0m\u001b[0;34m=\u001b[0m\u001b[0mdata\u001b[0m\u001b[0;34m,\u001b[0m \u001b[0;34m**\u001b[0m\u001b[0mkwargs\u001b[0m\u001b[0;34m)\u001b[0m\u001b[0;34m]\u001b[0m\u001b[0;34m\u001b[0m\u001b[0;34m\u001b[0m\u001b[0m\n\u001b[0m\u001b[1;32m   1606\u001b[0m         \u001b[0;32mfor\u001b[0m \u001b[0mline\u001b[0m \u001b[0;32min\u001b[0m \u001b[0mlines\u001b[0m\u001b[0;34m:\u001b[0m\u001b[0;34m\u001b[0m\u001b[0;34m\u001b[0m\u001b[0m\n\u001b[1;32m   1607\u001b[0m             \u001b[0mself\u001b[0m\u001b[0;34m.\u001b[0m\u001b[0madd_line\u001b[0m\u001b[0;34m(\u001b[0m\u001b[0mline\u001b[0m\u001b[0;34m)\u001b[0m\u001b[0;34m\u001b[0m\u001b[0;34m\u001b[0m\u001b[0m\n",
      "\u001b[0;32m/Library/Frameworks/Python.framework/Versions/3.9/lib/python3.9/site-packages/matplotlib/axes/_base.py\u001b[0m in \u001b[0;36m__call__\u001b[0;34m(self, data, *args, **kwargs)\u001b[0m\n\u001b[1;32m    313\u001b[0m                 \u001b[0mthis\u001b[0m \u001b[0;34m+=\u001b[0m \u001b[0margs\u001b[0m\u001b[0;34m[\u001b[0m\u001b[0;36m0\u001b[0m\u001b[0;34m]\u001b[0m\u001b[0;34m,\u001b[0m\u001b[0;34m\u001b[0m\u001b[0;34m\u001b[0m\u001b[0m\n\u001b[1;32m    314\u001b[0m                 \u001b[0margs\u001b[0m \u001b[0;34m=\u001b[0m \u001b[0margs\u001b[0m\u001b[0;34m[\u001b[0m\u001b[0;36m1\u001b[0m\u001b[0;34m:\u001b[0m\u001b[0;34m]\u001b[0m\u001b[0;34m\u001b[0m\u001b[0;34m\u001b[0m\u001b[0m\n\u001b[0;32m--> 315\u001b[0;31m             \u001b[0;32myield\u001b[0m \u001b[0;32mfrom\u001b[0m \u001b[0mself\u001b[0m\u001b[0;34m.\u001b[0m\u001b[0m_plot_args\u001b[0m\u001b[0;34m(\u001b[0m\u001b[0mthis\u001b[0m\u001b[0;34m,\u001b[0m \u001b[0mkwargs\u001b[0m\u001b[0;34m)\u001b[0m\u001b[0;34m\u001b[0m\u001b[0;34m\u001b[0m\u001b[0m\n\u001b[0m\u001b[1;32m    316\u001b[0m \u001b[0;34m\u001b[0m\u001b[0m\n\u001b[1;32m    317\u001b[0m     \u001b[0;32mdef\u001b[0m \u001b[0mget_next_color\u001b[0m\u001b[0;34m(\u001b[0m\u001b[0mself\u001b[0m\u001b[0;34m)\u001b[0m\u001b[0;34m:\u001b[0m\u001b[0;34m\u001b[0m\u001b[0;34m\u001b[0m\u001b[0m\n",
      "\u001b[0;32m/Library/Frameworks/Python.framework/Versions/3.9/lib/python3.9/site-packages/matplotlib/axes/_base.py\u001b[0m in \u001b[0;36m_plot_args\u001b[0;34m(self, tup, kwargs, return_kwargs)\u001b[0m\n\u001b[1;32m    499\u001b[0m \u001b[0;34m\u001b[0m\u001b[0m\n\u001b[1;32m    500\u001b[0m         \u001b[0;32mif\u001b[0m \u001b[0mx\u001b[0m\u001b[0;34m.\u001b[0m\u001b[0mshape\u001b[0m\u001b[0;34m[\u001b[0m\u001b[0;36m0\u001b[0m\u001b[0;34m]\u001b[0m \u001b[0;34m!=\u001b[0m \u001b[0my\u001b[0m\u001b[0;34m.\u001b[0m\u001b[0mshape\u001b[0m\u001b[0;34m[\u001b[0m\u001b[0;36m0\u001b[0m\u001b[0;34m]\u001b[0m\u001b[0;34m:\u001b[0m\u001b[0;34m\u001b[0m\u001b[0;34m\u001b[0m\u001b[0m\n\u001b[0;32m--> 501\u001b[0;31m             raise ValueError(f\"x and y must have same first dimension, but \"\n\u001b[0m\u001b[1;32m    502\u001b[0m                              f\"have shapes {x.shape} and {y.shape}\")\n\u001b[1;32m    503\u001b[0m         \u001b[0;32mif\u001b[0m \u001b[0mx\u001b[0m\u001b[0;34m.\u001b[0m\u001b[0mndim\u001b[0m \u001b[0;34m>\u001b[0m \u001b[0;36m2\u001b[0m \u001b[0;32mor\u001b[0m \u001b[0my\u001b[0m\u001b[0;34m.\u001b[0m\u001b[0mndim\u001b[0m \u001b[0;34m>\u001b[0m \u001b[0;36m2\u001b[0m\u001b[0;34m:\u001b[0m\u001b[0;34m\u001b[0m\u001b[0;34m\u001b[0m\u001b[0m\n",
      "\u001b[0;31mValueError\u001b[0m: x and y must have same first dimension, but have shapes (100,) and (8,)"
     ]
    },
    {
     "data": {
      "image/png": "[encoded data removed]",
      "text/plain": [
       "<Figure size 432x288 with 1 Axes>"
      ]
     },
     "metadata": {
      "needs_background": "light"
     },
     "output_type": "display_data"
    }
   ],
   "source": [
    "plt.plot(x_plot, y_plot[3])\n",
    "plt.plot(x_plot, y_plot[4])\n",
    "plt.plot(x_plot, y_plot[5])"
   ]
  },
  {
   "cell_type": "code",
   "execution_count": null,
   "id": "528b5fb5-687c-4416-8db8-fca2d9fd8527",
   "metadata": {},
   "outputs": [],
   "source": []
  }
 ],
 "metadata": {
  "kernelspec": {
   "display_name": "Python 3 (ipykernel)",
   "language": "python",
   "name": "python3"
  },
  "language_info": {
   "codemirror_mode": {
    "name": "ipython",
    "version": 3
   },
   "file_extension": ".py",
   "mimetype": "text/x-python",
   "name": "python",
   "nbconvert_exporter": "python",
   "pygments_lexer": "ipython3",
   "version": "3.9.6"
  }
 },
 "nbformat": 4,
 "nbformat_minor": 5
}
